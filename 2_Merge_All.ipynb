{
 "cells": [
  {
   "cell_type": "markdown",
   "metadata": {},
   "source": [
    "## Preparation"
   ]
  },
  {
   "cell_type": "code",
   "execution_count": 1,
   "metadata": {},
   "outputs": [],
   "source": [
    "# Using SQL + Pandas\n",
    "import pandas as pd\n",
    "import numpy as np\n",
    "\n",
    "# Data Visualization\n",
    "from plotnine import *\n",
    "import seaborn as sns\n",
    "import matplotlib.pyplot as plt\n",
    "\n",
    "# Ignore warnings\n",
    "import warnings\n",
    "warnings.filterwarnings('ignore')"
   ]
  },
  {
   "cell_type": "code",
   "execution_count": 2,
   "metadata": {},
   "outputs": [],
   "source": [
    "# Read in the data\n",
    "DC_Yelp = pd.read_csv(\"Data/Yelp/DC_Yelp_cleaned.csv\")\n",
    "Chicago_Yelp = pd.read_csv(\"Data/Yelp/Chicago_Yelp_cleaned.csv\")\n",
    "NY_Yelp = pd.read_csv(\"Data/Yelp/NY_Yelp_cleaned.csv\")\n",
    "SF_Yelp = pd.read_csv(\"Data/Yelp/SF_Yelp_cleaned.csv\")\n",
    "LA_Yelp = pd.read_csv(\"Data/Yelp/LA_Yelp_cleaned.csv\")\n",
    "\n",
    "DC_Wiki = pd.read_csv(\"Data/Wikipedia/Wiki_DC.csv\")\n",
    "Chicago_Wiki = pd.read_csv(\"Data/Wikipedia/Wiki_Chicago.csv\")\n",
    "DC_Wiki = pd.read_csv(\"Data/Wikipedia/Wiki_Chicago.csv\")\n",
    "DC_Wiki = pd.read_csv(\"Data/Wikipedia/Wiki_Chicago.csv\")"
   ]
  },
  {
   "cell_type": "code",
   "execution_count": null,
   "metadata": {},
   "outputs": [],
   "source": []
  }
 ],
 "metadata": {
  "kernelspec": {
   "display_name": "Python 3",
   "language": "python",
   "name": "python3"
  },
  "language_info": {
   "codemirror_mode": {
    "name": "ipython",
    "version": 3
   },
   "file_extension": ".py",
   "mimetype": "text/x-python",
   "name": "python",
   "nbconvert_exporter": "python",
   "pygments_lexer": "ipython3",
   "version": "3.8.5"
  }
 },
 "nbformat": 4,
 "nbformat_minor": 4
}
