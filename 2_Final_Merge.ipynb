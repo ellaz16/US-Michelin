{
 "cells": [
  {
   "cell_type": "code",
   "execution_count": 1,
   "metadata": {},
   "outputs": [],
   "source": [
    "# Using SQL + Pandas\n",
    "import pandas as pd\n",
    "import numpy as np\n",
    "\n",
    "# Data Visualization\n",
    "from plotnine import *\n",
    "import seaborn as sns\n",
    "import matplotlib.pyplot as plt\n",
    "\n",
    "# Ignore warnings\n",
    "import warnings\n",
    "warnings.filterwarnings('ignore')"
   ]
  },
  {
   "cell_type": "code",
   "execution_count": 2,
   "metadata": {},
   "outputs": [],
   "source": [
    "# Read in the data\n",
    "DC = pd.read_csv(\"Data/DC.csv\")\n",
    "NY = pd.read_csv(\"Data/NY.csv\")\n",
    "CH = pd.read_csv(\"Data/CH.csv\")\n",
    "CA = pd.read_csv(\"Data/CA.csv\")"
   ]
  },
  {
   "cell_type": "code",
   "execution_count": 3,
   "metadata": {},
   "outputs": [],
   "source": [
    "# Row bind all data\n",
    "dat = pd.concat([DC,NY,CH,CA],sort=False)"
   ]
  },
  {
   "cell_type": "code",
   "execution_count": 4,
   "metadata": {},
   "outputs": [
    {
     "data": {
      "text/html": [
       "<div>\n",
       "<style scoped>\n",
       "    .dataframe tbody tr th:only-of-type {\n",
       "        vertical-align: middle;\n",
       "    }\n",
       "\n",
       "    .dataframe tbody tr th {\n",
       "        vertical-align: top;\n",
       "    }\n",
       "\n",
       "    .dataframe thead th {\n",
       "        text-align: right;\n",
       "    }\n",
       "</style>\n",
       "<table border=\"1\" class=\"dataframe\">\n",
       "  <thead>\n",
       "    <tr style=\"text-align: right;\">\n",
       "      <th></th>\n",
       "      <th>name</th>\n",
       "      <th>url</th>\n",
       "      <th>phone</th>\n",
       "      <th>address</th>\n",
       "      <th>rating</th>\n",
       "      <th>review_count</th>\n",
       "      <th>neighborhood</th>\n",
       "      <th>price_range</th>\n",
       "      <th>category</th>\n",
       "      <th>region</th>\n",
       "      <th>michelin_star</th>\n",
       "      <th>michelin_guide</th>\n",
       "    </tr>\n",
       "  </thead>\n",
       "  <tbody>\n",
       "    <tr>\n",
       "      <th>0</th>\n",
       "      <td>a baked joint</td>\n",
       "      <td>https://www.yelp.com/biz/a-baked-joint-washing...</td>\n",
       "      <td>(202) 408-6985</td>\n",
       "      <td>430 K St NW</td>\n",
       "      <td>4.5</td>\n",
       "      <td>1918</td>\n",
       "      <td>NaN</td>\n",
       "      <td>1.0</td>\n",
       "      <td>['Coffee &amp; Tea', 'Breakfast &amp; Brunch', 'Sandwi...</td>\n",
       "      <td>Washington DC</td>\n",
       "      <td>0</td>\n",
       "      <td>0</td>\n",
       "    </tr>\n",
       "    <tr>\n",
       "      <th>1</th>\n",
       "      <td>zaytinya</td>\n",
       "      <td>https://www.yelp.com/biz/zaytinya-washington</td>\n",
       "      <td>(202) 638-0800</td>\n",
       "      <td>701 9th St NW</td>\n",
       "      <td>4.0</td>\n",
       "      <td>4687</td>\n",
       "      <td>NaN</td>\n",
       "      <td>3.0</td>\n",
       "      <td>['Greek', 'Turkish', 'Lebanese']</td>\n",
       "      <td>Washington DC</td>\n",
       "      <td>0</td>\n",
       "      <td>1</td>\n",
       "    </tr>\n",
       "    <tr>\n",
       "      <th>2</th>\n",
       "      <td>le diplomate</td>\n",
       "      <td>https://www.yelp.com/biz/le-diplomate-washington</td>\n",
       "      <td>(202) 332-3333</td>\n",
       "      <td>1601 14th St NW</td>\n",
       "      <td>4.5</td>\n",
       "      <td>3607</td>\n",
       "      <td>Logan Circle</td>\n",
       "      <td>3.0</td>\n",
       "      <td>['Brasseries', 'French', 'Breakfast &amp; Brunch']</td>\n",
       "      <td>Washington DC</td>\n",
       "      <td>0</td>\n",
       "      <td>0</td>\n",
       "    </tr>\n",
       "    <tr>\n",
       "      <th>3</th>\n",
       "      <td>unconventional diner</td>\n",
       "      <td>https://www.yelp.com/biz/unconventional-diner-...</td>\n",
       "      <td>(202) 847-0122</td>\n",
       "      <td>1207 9th St NW</td>\n",
       "      <td>4.5</td>\n",
       "      <td>1166</td>\n",
       "      <td>Shaw</td>\n",
       "      <td>2.0</td>\n",
       "      <td>['American (New)', 'Breakfast &amp; Brunch']</td>\n",
       "      <td>Washington DC</td>\n",
       "      <td>0</td>\n",
       "      <td>1</td>\n",
       "    </tr>\n",
       "    <tr>\n",
       "      <th>4</th>\n",
       "      <td>old ebbitt grill</td>\n",
       "      <td>https://www.yelp.com/biz/old-ebbitt-grill-wash...</td>\n",
       "      <td>(202) 347-4800</td>\n",
       "      <td>675 15th St NW</td>\n",
       "      <td>4.0</td>\n",
       "      <td>8513</td>\n",
       "      <td>NaN</td>\n",
       "      <td>2.0</td>\n",
       "      <td>['Bars', 'American (Traditional)', 'Breakfast ...</td>\n",
       "      <td>Washington DC</td>\n",
       "      <td>0</td>\n",
       "      <td>0</td>\n",
       "    </tr>\n",
       "  </tbody>\n",
       "</table>\n",
       "</div>"
      ],
      "text/plain": [
       "                   name                                                url  \\\n",
       "0         a baked joint  https://www.yelp.com/biz/a-baked-joint-washing...   \n",
       "1              zaytinya       https://www.yelp.com/biz/zaytinya-washington   \n",
       "2          le diplomate   https://www.yelp.com/biz/le-diplomate-washington   \n",
       "3  unconventional diner  https://www.yelp.com/biz/unconventional-diner-...   \n",
       "4      old ebbitt grill  https://www.yelp.com/biz/old-ebbitt-grill-wash...   \n",
       "\n",
       "            phone          address  rating  review_count  neighborhood  \\\n",
       "0  (202) 408-6985      430 K St NW     4.5          1918           NaN   \n",
       "1  (202) 638-0800    701 9th St NW     4.0          4687           NaN   \n",
       "2  (202) 332-3333  1601 14th St NW     4.5          3607  Logan Circle   \n",
       "3  (202) 847-0122   1207 9th St NW     4.5          1166          Shaw   \n",
       "4  (202) 347-4800   675 15th St NW     4.0          8513           NaN   \n",
       "\n",
       "   price_range                                           category  \\\n",
       "0          1.0  ['Coffee & Tea', 'Breakfast & Brunch', 'Sandwi...   \n",
       "1          3.0                   ['Greek', 'Turkish', 'Lebanese']   \n",
       "2          3.0     ['Brasseries', 'French', 'Breakfast & Brunch']   \n",
       "3          2.0           ['American (New)', 'Breakfast & Brunch']   \n",
       "4          2.0  ['Bars', 'American (Traditional)', 'Breakfast ...   \n",
       "\n",
       "          region  michelin_star  michelin_guide  \n",
       "0  Washington DC              0               0  \n",
       "1  Washington DC              0               1  \n",
       "2  Washington DC              0               0  \n",
       "3  Washington DC              0               1  \n",
       "4  Washington DC              0               0  "
      ]
     },
     "execution_count": 4,
     "metadata": {},
     "output_type": "execute_result"
    }
   ],
   "source": [
    "# View the head of the data\n",
    "dat.head()"
   ]
  },
  {
   "cell_type": "code",
   "execution_count": 5,
   "metadata": {},
   "outputs": [
    {
     "data": {
      "text/plain": [
       "(13700, 12)"
      ]
     },
     "execution_count": 5,
     "metadata": {},
     "output_type": "execute_result"
    }
   ],
   "source": [
    "# View the shape of the data\n",
    "dat.shape"
   ]
  },
  {
   "cell_type": "code",
   "execution_count": 6,
   "metadata": {},
   "outputs": [
    {
     "data": {
      "text/plain": [
       "name               object\n",
       "url                object\n",
       "phone              object\n",
       "address            object\n",
       "rating            float64\n",
       "review_count        int64\n",
       "neighborhood       object\n",
       "price_range       float64\n",
       "category           object\n",
       "region             object\n",
       "michelin_star       int64\n",
       "michelin_guide      int64\n",
       "dtype: object"
      ]
     },
     "execution_count": 6,
     "metadata": {},
     "output_type": "execute_result"
    }
   ],
   "source": [
    "# View the data type of each column\n",
    "dat.dtypes"
   ]
  },
  {
   "cell_type": "code",
   "execution_count": 7,
   "metadata": {
    "scrolled": false
   },
   "outputs": [
    {
     "data": {
      "text/plain": [
       "name                 0\n",
       "url                  0\n",
       "phone              269\n",
       "address            225\n",
       "rating               0\n",
       "review_count         0\n",
       "neighborhood      3772\n",
       "price_range       2269\n",
       "category             1\n",
       "region               0\n",
       "michelin_star        0\n",
       "michelin_guide       0\n",
       "dtype: int64"
      ]
     },
     "execution_count": 7,
     "metadata": {},
     "output_type": "execute_result"
    }
   ],
   "source": [
    "# Count NaNs in each column\n",
    "dat.isna().sum()"
   ]
  },
  {
   "cell_type": "code",
   "execution_count": 8,
   "metadata": {},
   "outputs": [
    {
     "data": {
      "text/plain": [
       "(11431, 12)"
      ]
     },
     "execution_count": 8,
     "metadata": {},
     "output_type": "execute_result"
    }
   ],
   "source": [
    "# Drop NaNs\n",
    "dat.dropna(subset=['price_range','category'],inplace=True)\n",
    "dat.shape"
   ]
  },
  {
   "cell_type": "code",
   "execution_count": 9,
   "metadata": {},
   "outputs": [],
   "source": [
    "import ast\n",
    "dat.category = dat.category.apply(ast.literal_eval)"
   ]
  },
  {
   "cell_type": "code",
   "execution_count": 10,
   "metadata": {},
   "outputs": [
    {
     "data": {
      "text/html": [
       "<div>\n",
       "<style scoped>\n",
       "    .dataframe tbody tr th:only-of-type {\n",
       "        vertical-align: middle;\n",
       "    }\n",
       "\n",
       "    .dataframe tbody tr th {\n",
       "        vertical-align: top;\n",
       "    }\n",
       "\n",
       "    .dataframe thead th {\n",
       "        text-align: right;\n",
       "    }\n",
       "</style>\n",
       "<table border=\"1\" class=\"dataframe\">\n",
       "  <thead>\n",
       "    <tr style=\"text-align: right;\">\n",
       "      <th></th>\n",
       "      <th>Acai Bowls</th>\n",
       "      <th>Afghan</th>\n",
       "      <th>African</th>\n",
       "      <th>Airport Lounges</th>\n",
       "      <th>American (New)</th>\n",
       "      <th>American (Traditional)</th>\n",
       "      <th>Antiques</th>\n",
       "      <th>Apartments</th>\n",
       "      <th>Arabian</th>\n",
       "      <th>Arcades</th>\n",
       "      <th>...</th>\n",
       "      <th>Piadina</th>\n",
       "      <th>Piercing</th>\n",
       "      <th>Poutineries</th>\n",
       "      <th>Shaved Snow</th>\n",
       "      <th>Skin Care</th>\n",
       "      <th>Swimming Pools</th>\n",
       "      <th>Used Bookstore</th>\n",
       "      <th>Walking Tours</th>\n",
       "      <th>Mags</th>\n",
       "      <th>Music &amp; Video</th>\n",
       "    </tr>\n",
       "  </thead>\n",
       "  <tbody>\n",
       "    <tr>\n",
       "      <th>0</th>\n",
       "      <td>0</td>\n",
       "      <td>0</td>\n",
       "      <td>0</td>\n",
       "      <td>0</td>\n",
       "      <td>0</td>\n",
       "      <td>0</td>\n",
       "      <td>0</td>\n",
       "      <td>0</td>\n",
       "      <td>0</td>\n",
       "      <td>0</td>\n",
       "      <td>...</td>\n",
       "      <td>0</td>\n",
       "      <td>0</td>\n",
       "      <td>0</td>\n",
       "      <td>0</td>\n",
       "      <td>0</td>\n",
       "      <td>0</td>\n",
       "      <td>0</td>\n",
       "      <td>0</td>\n",
       "      <td>0</td>\n",
       "      <td>0</td>\n",
       "    </tr>\n",
       "    <tr>\n",
       "      <th>1</th>\n",
       "      <td>0</td>\n",
       "      <td>0</td>\n",
       "      <td>0</td>\n",
       "      <td>0</td>\n",
       "      <td>0</td>\n",
       "      <td>0</td>\n",
       "      <td>0</td>\n",
       "      <td>0</td>\n",
       "      <td>0</td>\n",
       "      <td>0</td>\n",
       "      <td>...</td>\n",
       "      <td>0</td>\n",
       "      <td>0</td>\n",
       "      <td>0</td>\n",
       "      <td>0</td>\n",
       "      <td>0</td>\n",
       "      <td>0</td>\n",
       "      <td>0</td>\n",
       "      <td>0</td>\n",
       "      <td>0</td>\n",
       "      <td>0</td>\n",
       "    </tr>\n",
       "    <tr>\n",
       "      <th>2</th>\n",
       "      <td>0</td>\n",
       "      <td>0</td>\n",
       "      <td>0</td>\n",
       "      <td>0</td>\n",
       "      <td>0</td>\n",
       "      <td>0</td>\n",
       "      <td>0</td>\n",
       "      <td>0</td>\n",
       "      <td>0</td>\n",
       "      <td>0</td>\n",
       "      <td>...</td>\n",
       "      <td>0</td>\n",
       "      <td>0</td>\n",
       "      <td>0</td>\n",
       "      <td>0</td>\n",
       "      <td>0</td>\n",
       "      <td>0</td>\n",
       "      <td>0</td>\n",
       "      <td>0</td>\n",
       "      <td>0</td>\n",
       "      <td>0</td>\n",
       "    </tr>\n",
       "    <tr>\n",
       "      <th>3</th>\n",
       "      <td>0</td>\n",
       "      <td>0</td>\n",
       "      <td>0</td>\n",
       "      <td>0</td>\n",
       "      <td>1</td>\n",
       "      <td>0</td>\n",
       "      <td>0</td>\n",
       "      <td>0</td>\n",
       "      <td>0</td>\n",
       "      <td>0</td>\n",
       "      <td>...</td>\n",
       "      <td>0</td>\n",
       "      <td>0</td>\n",
       "      <td>0</td>\n",
       "      <td>0</td>\n",
       "      <td>0</td>\n",
       "      <td>0</td>\n",
       "      <td>0</td>\n",
       "      <td>0</td>\n",
       "      <td>0</td>\n",
       "      <td>0</td>\n",
       "    </tr>\n",
       "    <tr>\n",
       "      <th>4</th>\n",
       "      <td>0</td>\n",
       "      <td>0</td>\n",
       "      <td>0</td>\n",
       "      <td>0</td>\n",
       "      <td>0</td>\n",
       "      <td>1</td>\n",
       "      <td>0</td>\n",
       "      <td>0</td>\n",
       "      <td>0</td>\n",
       "      <td>0</td>\n",
       "      <td>...</td>\n",
       "      <td>0</td>\n",
       "      <td>0</td>\n",
       "      <td>0</td>\n",
       "      <td>0</td>\n",
       "      <td>0</td>\n",
       "      <td>0</td>\n",
       "      <td>0</td>\n",
       "      <td>0</td>\n",
       "      <td>0</td>\n",
       "      <td>0</td>\n",
       "    </tr>\n",
       "  </tbody>\n",
       "</table>\n",
       "<p>5 rows × 350 columns</p>\n",
       "</div>"
      ],
      "text/plain": [
       "   Acai Bowls  Afghan  African  Airport Lounges  American (New)  \\\n",
       "0           0       0        0                0               0   \n",
       "1           0       0        0                0               0   \n",
       "2           0       0        0                0               0   \n",
       "3           0       0        0                0               1   \n",
       "4           0       0        0                0               0   \n",
       "\n",
       "   American (Traditional)  Antiques  Apartments  Arabian  Arcades  ...  \\\n",
       "0                       0         0           0        0        0  ...   \n",
       "1                       0         0           0        0        0  ...   \n",
       "2                       0         0           0        0        0  ...   \n",
       "3                       0         0           0        0        0  ...   \n",
       "4                       1         0           0        0        0  ...   \n",
       "\n",
       "   Piadina  Piercing  Poutineries  Shaved Snow  Skin Care  Swimming Pools  \\\n",
       "0        0         0            0            0          0               0   \n",
       "1        0         0            0            0          0               0   \n",
       "2        0         0            0            0          0               0   \n",
       "3        0         0            0            0          0               0   \n",
       "4        0         0            0            0          0               0   \n",
       "\n",
       "   Used Bookstore  Walking Tours  Mags  Music & Video  \n",
       "0               0              0     0              0  \n",
       "1               0              0     0              0  \n",
       "2               0              0     0              0  \n",
       "3               0              0     0              0  \n",
       "4               0              0     0              0  \n",
       "\n",
       "[5 rows x 350 columns]"
      ]
     },
     "execution_count": 10,
     "metadata": {},
     "output_type": "execute_result"
    }
   ],
   "source": [
    "cat_dummies = (pd\n",
    "               .get_dummies(dat.category.apply(pd.Series),\n",
    "                            prefix='',\n",
    "                            prefix_sep='')\n",
    "               .sum(level=0, axis=1))\n",
    "\n",
    "cat_dummies.head()"
   ]
  },
  {
   "cell_type": "code",
   "execution_count": 11,
   "metadata": {},
   "outputs": [],
   "source": [
    "dat = pd.concat([dat,cat_dummies],axis=1,sort=False)"
   ]
  },
  {
   "cell_type": "code",
   "execution_count": 12,
   "metadata": {
    "scrolled": false
   },
   "outputs": [
    {
     "data": {
      "text/plain": [
       "Index(['Party & Event Planning', 'Personal Chefs', 'Personal Shopping',\n",
       "       'Pop-Up Restaurants', 'Public Markets', 'Recording & Rehearsal Studios',\n",
       "       'Sardinian', 'Scottish', 'Shopping', 'Smokehouse', 'Social Clubs',\n",
       "       'Sports Clubs', 'Syrian', 'Tabletop Games', 'Team Building Activities',\n",
       "       'Trivia Hosts', 'Vacation Rentals', 'Vermouth Bars',\n",
       "       'Veterans Organizations', 'Vintage & Consignment', 'Wedding Planning',\n",
       "       'Wholesale Stores', 'Wine & Spirits', 'Wraps', 'Yoga',\n",
       "       'Aircraft Repairs', 'Art Tours', 'Bangladeshi', 'Beer Tours',\n",
       "       'Bike Repair/Maintenance', 'Boat Tours', 'Books', 'Bulgarian',\n",
       "       'Champagne Bars', 'Herbs & Spices', 'Iberian', 'Kids Activities',\n",
       "       'Mini Golf', 'Musicians', 'Office Equipment', 'Piadina', 'Piercing',\n",
       "       'Poutineries', 'Shaved Snow', 'Skin Care', 'Swimming Pools',\n",
       "       'Used Bookstore', 'Walking Tours', 'Mags', 'Music & Video'],\n",
       "      dtype='object')"
      ]
     },
     "execution_count": 12,
     "metadata": {},
     "output_type": "execute_result"
    }
   ],
   "source": [
    "cat_dummies.columns[300:]"
   ]
  },
  {
   "cell_type": "code",
   "execution_count": 13,
   "metadata": {},
   "outputs": [],
   "source": [
    "drop = ['Airport Lounges', 'Antiques', 'Apartments',\n",
    "       'Arcades','Art Galleries', 'Art Supplies',\n",
    "       'Banks & Credit Unions', 'Bespoke Clothing', 'Bikes',\n",
    "       'Blow Dry/Out Services', 'Boating', 'Bookstores', 'Botanical Gardens',\n",
    "       'Bowling', 'Bridal', 'Casinos', 'Cinema',\n",
    "       'Comedy Clubs', 'Convenience Stores', 'Cooking Classes', 'Cooking Schools',\n",
    "       'Cosmetics & Beauty Supply', 'Dance Clubs', 'Day Spas',\n",
    "       'Do-It-Yourself Food', 'Drugstores', 'Electronics Repair',\n",
    "       'Escape Games', 'Festivals', 'Florists',\n",
    "       'Framing', 'Fur Clothing',\n",
    "       'Furniture Stores', 'Gas Stations', 'Gold Buyers', 'Golf',\n",
    "       'Grocery', 'Hair Loss Centers', 'Hair Removal',\n",
    "       'Hair Salons', 'Hair Stylists', 'Health Markets',\n",
    "       'Hotels', 'International Grocery', 'Jewelry',\n",
    "       'Karaoke', 'Landmarks & Historical Buildings', 'Laotian', 'Latin American',\n",
    "       'Lingerie', 'Magicians', \n",
    "       \"Men's Clothing\", 'Museums', 'Music & DVDs', 'Music Venues',\n",
    "       'Musical Instruments & Teachers', 'Nail Salons', 'Organic Stores',\n",
    "       'Performing Arts', 'Pet Stores', 'Plus Size Fashion',\n",
    "       'Pool Halls', 'Pubs', 'Resorts', 'Rugs',\n",
    "       'Seafood Markets', 'Sewing & Alterations', 'Shopping Centers', \n",
    "       'Speakeasies', 'Tattoo', 'Tobacco Shops', 'Tours', 'Used', 'Vape Shops',\n",
    "       'Venues & Event Spaces', 'Vinyl Records',\n",
    "       \"Women's Clothing\", 'Accessories', 'Art Museums',\n",
    "       'Bed & Breakfast', 'Beverage Store',\n",
    "       'Cabaret', 'Cultural Center', 'Electronics', 'Event Planning & Services',\n",
    "       'Eyelash Service', 'Floral Designers', 'Flowers & Gifts', \n",
    "       'Food Tours', 'Formal Wear', 'Furniture Rental', 'Gift Shops', \n",
    "       'Head Shops', 'Home Decor', 'Ice Delivery',\n",
    "       'Internet Cafes', 'Libraries', 'Makeup Artists', 'Mattresses',\n",
    "       'Meaderies', 'Mobile Phone Repair', 'Party & Event Planning', \n",
    "       'Personal Chefs', 'Personal Shopping', 'Pop-Up Restaurants', \n",
    "       'Public Markets', 'Recording & Rehearsal Studios',\n",
    "       'Shopping', 'Tabletop Games', 'Team Building Activities',\n",
    "       'Trivia Hosts', 'Vacation Rentals', \n",
    "       'Veterans Organizations', 'Vintage & Consignment', 'Wedding Planning',\n",
    "       'Wholesale Stores', 'Yoga',\n",
    "       'Aircraft Repairs', 'Art Tours', 'Beer Tours',\n",
    "       'Bike Repair/Maintenance', 'Boat Tours', 'Books', \n",
    "       'Herbs & Spices', 'Kids Activities',\n",
    "       'Mini Golf', 'Musicians', 'Office Equipment', 'Piercing',\n",
    "       'Skin Care', 'Swimming Pools',\n",
    "       'Used Bookstore', 'Walking Tours', 'Mags', 'Music & Video',\n",
    "       'Breweries', 'Brewpubs', 'Candy Stores', 'Cheese Shops', \n",
    "       'Custom Cakes', 'Distilleries', 'Dive Bars', \n",
    "       'Food Court', 'Food Delivery Services', 'Food Stands',\n",
    "       'Food Trucks', 'Fruits & Veggies', 'Gastropubs', 'Gay Bars',\n",
    "       'Hookah Bars', 'Imported Food', 'Irish Pub', 'Jazz & Blues', 'Meat Shops',\n",
    "       'Patisserie/Cake Shop', 'Piano Bars', 'Sports Bars', \n",
    "       'Street Vendors', 'Supper Clubs', 'Australian', 'Bartenders', \n",
    "       'Dinner Theater', 'Social Clubs', 'Sports Clubs']"
   ]
  },
  {
   "cell_type": "code",
   "execution_count": 14,
   "metadata": {
    "scrolled": false
   },
   "outputs": [],
   "source": [
    "for i in drop:\n",
    "    dat = dat[dat[i] != 1]\n",
    "\n",
    "dat.drop(columns=drop,inplace=True)"
   ]
  },
  {
   "cell_type": "code",
   "execution_count": 15,
   "metadata": {},
   "outputs": [
    {
     "data": {
      "text/plain": [
       "(9365, 198)"
      ]
     },
     "execution_count": 15,
     "metadata": {},
     "output_type": "execute_result"
    }
   ],
   "source": [
    "dat.shape"
   ]
  },
  {
   "cell_type": "code",
   "execution_count": 16,
   "metadata": {},
   "outputs": [],
   "source": [
    "# Export to a CSV file\n",
    "dat.to_csv('Data/restaurant_data.csv',index=False)"
   ]
  }
 ],
 "metadata": {
  "kernelspec": {
   "display_name": "Python 3",
   "language": "python",
   "name": "python3"
  },
  "language_info": {
   "codemirror_mode": {
    "name": "ipython",
    "version": 3
   },
   "file_extension": ".py",
   "mimetype": "text/x-python",
   "name": "python",
   "nbconvert_exporter": "python",
   "pygments_lexer": "ipython3",
   "version": "3.8.5"
  }
 },
 "nbformat": 4,
 "nbformat_minor": 4
}
