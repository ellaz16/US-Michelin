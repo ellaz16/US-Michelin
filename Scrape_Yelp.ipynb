{
 "cells": [
  {
   "cell_type": "code",
   "execution_count": 1,
   "metadata": {},
   "outputs": [],
   "source": [
    "# Data processing\n",
    "import pandas as pd\n",
    "import country_converter as coco\n",
    "\n",
    "# Scraping web content\n",
    "import requests\n",
    "from bs4 import BeautifulSoup\n",
    "import time\n",
    "import random\n",
    "\n",
    "# Ignore warnings\n",
    "import warnings\n",
    "warnings.filterwarnings('ignore')"
   ]
  },
  {
   "cell_type": "code",
   "execution_count": 2,
   "metadata": {},
   "outputs": [
    {
     "data": {
      "text/plain": [
       "200"
      ]
     },
     "execution_count": 2,
     "metadata": {},
     "output_type": "execute_result"
    }
   ],
   "source": [
    "# Yelp DC restaurants url\n",
    "DC_url = 'https://www.yelp.com/search?find_desc=Restaurants&find_loc=Washington%2C%20DC'\n",
    "\n",
    "# Download the webpage\n",
    "DC_page = requests.get(DC_url)\n",
    "DC_page.status_code # 200 == Connection"
   ]
  },
  {
   "cell_type": "code",
   "execution_count": 12,
   "metadata": {},
   "outputs": [
    {
     "data": {
      "text/plain": [
       "{'https://www.yelp.com/biz/ambar-washington?osq=Restaurants',\n",
       " 'https://www.yelp.com/biz/cane-washington-3?osq=Restaurants',\n",
       " 'https://www.yelp.com/biz/gypsy-kitchen-washington?osq=Restaurants',\n",
       " 'https://www.yelp.com/biz/il-canale-washington-2?osq=Restaurants',\n",
       " 'https://www.yelp.com/biz/le-diplomate-washington?osq=Restaurants',\n",
       " 'https://www.yelp.com/biz/mr-braxton-bar-and-kitchen-washington?osq=Restaurants',\n",
       " 'https://www.yelp.com/biz/old-ebbitt-grill-washington?osq=Restaurants',\n",
       " 'https://www.yelp.com/biz/the-alibi-washington?osq=Restaurants',\n",
       " 'https://www.yelp.com/biz/the-block-washington?osq=Restaurants',\n",
       " 'https://www.yelp.com/biz/zaytinya-washington?osq=Restaurants'}"
      ]
     },
     "execution_count": 12,
     "metadata": {},
     "output_type": "execute_result"
    }
   ],
   "source": [
    "# Parse the content\n",
    "DC_soup = BeautifulSoup(DC_page.content,'html.parser')\n",
    "\n",
    "# Extract relevant links\n",
    "links = set()\n",
    "\n",
    "for tag in DC_soup.select('span > a'):\n",
    "    href = tag.attrs.get('href')\n",
    "    if '?osq=Restaurants' in href and 'https:' not in href:\n",
    "        links.update(['https://www.yelp.com'+href])\n",
    "\n",
    "links"
   ]
  }
 ],
 "metadata": {
  "kernelspec": {
   "display_name": "Python 3",
   "language": "python",
   "name": "python3"
  },
  "language_info": {
   "codemirror_mode": {
    "name": "ipython",
    "version": 3
   },
   "file_extension": ".py",
   "mimetype": "text/x-python",
   "name": "python",
   "nbconvert_exporter": "python",
   "pygments_lexer": "ipython3",
   "version": "3.8.5"
  }
 },
 "nbformat": 4,
 "nbformat_minor": 4
}
