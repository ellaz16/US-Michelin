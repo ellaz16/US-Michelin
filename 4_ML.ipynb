{
 "cells": [
  {
   "cell_type": "markdown",
   "metadata": {},
   "source": [
    "## Preparation"
   ]
  },
  {
   "cell_type": "code",
   "execution_count": 1,
   "metadata": {},
   "outputs": [],
   "source": [
    "# Data Management/Investigation\n",
    "import pandas as pd\n",
    "from pandas.api.types import CategoricalDtype # Ordering categories\n",
    "import numpy as np\n",
    "import missingno as miss\n",
    "\n",
    "# Plotting libraries\n",
    "from plotnine import *\n",
    "import matplotlib.pyplot as plt\n",
    "\n",
    "# For pre-processing data \n",
    "from sklearn import preprocessing as pp \n",
    "from sklearn.compose import ColumnTransformer \n",
    "\n",
    "# For splits and CV\n",
    "from sklearn.model_selection import train_test_split\n",
    "from sklearn.model_selection import KFold # Cross validation \n",
    "from sklearn.model_selection import cross_validate # Cross validation \n",
    "from sklearn.model_selection import GridSearchCV # Cross validation + param. tuning.\n",
    "\n",
    "# Machine learning methods \n",
    "from sklearn.naive_bayes import GaussianNB as NB\n",
    "from sklearn.neighbors import KNeighborsClassifier as KNN\n",
    "from sklearn.tree import DecisionTreeClassifier as DT\n",
    "from sklearn.tree import DecisionTreeRegressor as DT_reg\n",
    "from sklearn.ensemble import RandomForestClassifier as RF\n",
    "from sklearn import tree # For plotting the decision tree rules\n",
    "\n",
    "# For evaluating our model's performance\n",
    "import sklearn.metrics as m\n",
    "\n",
    "# Pipeline to combine modeling elements\n",
    "from sklearn.pipeline import Pipeline\n",
    "\n",
    "# Misc\n",
    "import warnings\n",
    "warnings.filterwarnings(\"ignore\")"
   ]
  },
  {
   "cell_type": "markdown",
   "metadata": {},
   "source": [
    "## Data"
   ]
  },
  {
   "cell_type": "code",
   "execution_count": 2,
   "metadata": {},
   "outputs": [],
   "source": [
    "# Read in the data\n",
    "dat = pd.read_csv(\"Data/restaurant_data.csv\")"
   ]
  },
  {
   "cell_type": "code",
   "execution_count": 3,
   "metadata": {},
   "outputs": [
    {
     "data": {
      "text/html": [
       "<div>\n",
       "<style scoped>\n",
       "    .dataframe tbody tr th:only-of-type {\n",
       "        vertical-align: middle;\n",
       "    }\n",
       "\n",
       "    .dataframe tbody tr th {\n",
       "        vertical-align: top;\n",
       "    }\n",
       "\n",
       "    .dataframe thead th {\n",
       "        text-align: right;\n",
       "    }\n",
       "</style>\n",
       "<table border=\"1\" class=\"dataframe\">\n",
       "  <thead>\n",
       "    <tr style=\"text-align: right;\">\n",
       "      <th></th>\n",
       "      <th>name</th>\n",
       "      <th>url</th>\n",
       "      <th>phone</th>\n",
       "      <th>address</th>\n",
       "      <th>rating</th>\n",
       "      <th>review_count</th>\n",
       "      <th>neighborhood</th>\n",
       "      <th>price_range</th>\n",
       "      <th>category</th>\n",
       "      <th>region</th>\n",
       "      <th>...</th>\n",
       "      <th>Vermouth Bars</th>\n",
       "      <th>Wine &amp; Spirits</th>\n",
       "      <th>Wraps</th>\n",
       "      <th>Bangladeshi</th>\n",
       "      <th>Bulgarian</th>\n",
       "      <th>Champagne Bars</th>\n",
       "      <th>Iberian</th>\n",
       "      <th>Piadina</th>\n",
       "      <th>Poutineries</th>\n",
       "      <th>Shaved Snow</th>\n",
       "    </tr>\n",
       "  </thead>\n",
       "  <tbody>\n",
       "    <tr>\n",
       "      <th>0</th>\n",
       "      <td>a baked joint</td>\n",
       "      <td>https://www.yelp.com/biz/a-baked-joint-washing...</td>\n",
       "      <td>(202) 408-6985</td>\n",
       "      <td>430 K St NW</td>\n",
       "      <td>4.5</td>\n",
       "      <td>1918</td>\n",
       "      <td>NaN</td>\n",
       "      <td>1.0</td>\n",
       "      <td>['Coffee &amp; Tea', 'Breakfast &amp; Brunch', 'Sandwi...</td>\n",
       "      <td>Washington DC</td>\n",
       "      <td>...</td>\n",
       "      <td>0</td>\n",
       "      <td>0</td>\n",
       "      <td>0</td>\n",
       "      <td>0</td>\n",
       "      <td>0</td>\n",
       "      <td>0</td>\n",
       "      <td>0</td>\n",
       "      <td>0</td>\n",
       "      <td>0</td>\n",
       "      <td>0</td>\n",
       "    </tr>\n",
       "    <tr>\n",
       "      <th>1</th>\n",
       "      <td>zaytinya</td>\n",
       "      <td>https://www.yelp.com/biz/zaytinya-washington</td>\n",
       "      <td>(202) 638-0800</td>\n",
       "      <td>701 9th St NW</td>\n",
       "      <td>4.0</td>\n",
       "      <td>4687</td>\n",
       "      <td>NaN</td>\n",
       "      <td>3.0</td>\n",
       "      <td>['Greek', 'Turkish', 'Lebanese']</td>\n",
       "      <td>Washington DC</td>\n",
       "      <td>...</td>\n",
       "      <td>0</td>\n",
       "      <td>0</td>\n",
       "      <td>0</td>\n",
       "      <td>0</td>\n",
       "      <td>0</td>\n",
       "      <td>0</td>\n",
       "      <td>0</td>\n",
       "      <td>0</td>\n",
       "      <td>0</td>\n",
       "      <td>0</td>\n",
       "    </tr>\n",
       "    <tr>\n",
       "      <th>2</th>\n",
       "      <td>le diplomate</td>\n",
       "      <td>https://www.yelp.com/biz/le-diplomate-washington</td>\n",
       "      <td>(202) 332-3333</td>\n",
       "      <td>1601 14th St NW</td>\n",
       "      <td>4.5</td>\n",
       "      <td>3607</td>\n",
       "      <td>Logan Circle</td>\n",
       "      <td>3.0</td>\n",
       "      <td>['Brasseries', 'French', 'Breakfast &amp; Brunch']</td>\n",
       "      <td>Washington DC</td>\n",
       "      <td>...</td>\n",
       "      <td>0</td>\n",
       "      <td>0</td>\n",
       "      <td>0</td>\n",
       "      <td>0</td>\n",
       "      <td>0</td>\n",
       "      <td>0</td>\n",
       "      <td>0</td>\n",
       "      <td>0</td>\n",
       "      <td>0</td>\n",
       "      <td>0</td>\n",
       "    </tr>\n",
       "    <tr>\n",
       "      <th>3</th>\n",
       "      <td>unconventional diner</td>\n",
       "      <td>https://www.yelp.com/biz/unconventional-diner-...</td>\n",
       "      <td>(202) 847-0122</td>\n",
       "      <td>1207 9th St NW</td>\n",
       "      <td>4.5</td>\n",
       "      <td>1166</td>\n",
       "      <td>Shaw</td>\n",
       "      <td>2.0</td>\n",
       "      <td>['American (New)', 'Breakfast &amp; Brunch']</td>\n",
       "      <td>Washington DC</td>\n",
       "      <td>...</td>\n",
       "      <td>0</td>\n",
       "      <td>0</td>\n",
       "      <td>0</td>\n",
       "      <td>0</td>\n",
       "      <td>0</td>\n",
       "      <td>0</td>\n",
       "      <td>0</td>\n",
       "      <td>0</td>\n",
       "      <td>0</td>\n",
       "      <td>0</td>\n",
       "    </tr>\n",
       "    <tr>\n",
       "      <th>4</th>\n",
       "      <td>old ebbitt grill</td>\n",
       "      <td>https://www.yelp.com/biz/old-ebbitt-grill-wash...</td>\n",
       "      <td>(202) 347-4800</td>\n",
       "      <td>675 15th St NW</td>\n",
       "      <td>4.0</td>\n",
       "      <td>8513</td>\n",
       "      <td>NaN</td>\n",
       "      <td>2.0</td>\n",
       "      <td>['Bars', 'American (Traditional)', 'Breakfast ...</td>\n",
       "      <td>Washington DC</td>\n",
       "      <td>...</td>\n",
       "      <td>0</td>\n",
       "      <td>0</td>\n",
       "      <td>0</td>\n",
       "      <td>0</td>\n",
       "      <td>0</td>\n",
       "      <td>0</td>\n",
       "      <td>0</td>\n",
       "      <td>0</td>\n",
       "      <td>0</td>\n",
       "      <td>0</td>\n",
       "    </tr>\n",
       "  </tbody>\n",
       "</table>\n",
       "<p>5 rows × 198 columns</p>\n",
       "</div>"
      ],
      "text/plain": [
       "                   name                                                url  \\\n",
       "0         a baked joint  https://www.yelp.com/biz/a-baked-joint-washing...   \n",
       "1              zaytinya       https://www.yelp.com/biz/zaytinya-washington   \n",
       "2          le diplomate   https://www.yelp.com/biz/le-diplomate-washington   \n",
       "3  unconventional diner  https://www.yelp.com/biz/unconventional-diner-...   \n",
       "4      old ebbitt grill  https://www.yelp.com/biz/old-ebbitt-grill-wash...   \n",
       "\n",
       "            phone          address  rating  review_count  neighborhood  \\\n",
       "0  (202) 408-6985      430 K St NW     4.5          1918           NaN   \n",
       "1  (202) 638-0800    701 9th St NW     4.0          4687           NaN   \n",
       "2  (202) 332-3333  1601 14th St NW     4.5          3607  Logan Circle   \n",
       "3  (202) 847-0122   1207 9th St NW     4.5          1166          Shaw   \n",
       "4  (202) 347-4800   675 15th St NW     4.0          8513           NaN   \n",
       "\n",
       "   price_range                                           category  \\\n",
       "0          1.0  ['Coffee & Tea', 'Breakfast & Brunch', 'Sandwi...   \n",
       "1          3.0                   ['Greek', 'Turkish', 'Lebanese']   \n",
       "2          3.0     ['Brasseries', 'French', 'Breakfast & Brunch']   \n",
       "3          2.0           ['American (New)', 'Breakfast & Brunch']   \n",
       "4          2.0  ['Bars', 'American (Traditional)', 'Breakfast ...   \n",
       "\n",
       "          region  ...  Vermouth Bars  Wine & Spirits  Wraps  Bangladeshi  \\\n",
       "0  Washington DC  ...              0               0      0            0   \n",
       "1  Washington DC  ...              0               0      0            0   \n",
       "2  Washington DC  ...              0               0      0            0   \n",
       "3  Washington DC  ...              0               0      0            0   \n",
       "4  Washington DC  ...              0               0      0            0   \n",
       "\n",
       "   Bulgarian  Champagne Bars  Iberian  Piadina  Poutineries  Shaved Snow  \n",
       "0          0               0        0        0            0            0  \n",
       "1          0               0        0        0            0            0  \n",
       "2          0               0        0        0            0            0  \n",
       "3          0               0        0        0            0            0  \n",
       "4          0               0        0        0            0            0  \n",
       "\n",
       "[5 rows x 198 columns]"
      ]
     },
     "execution_count": 3,
     "metadata": {},
     "output_type": "execute_result"
    }
   ],
   "source": [
    "# View the head of the data\n",
    "dat.head()"
   ]
  },
  {
   "cell_type": "code",
   "execution_count": 4,
   "metadata": {},
   "outputs": [],
   "source": [
    "# Drop unnecessary columns\n",
    "dat = dat.drop(columns=['name','url','phone','address','neighborhood','category'])"
   ]
  },
  {
   "cell_type": "code",
   "execution_count": 5,
   "metadata": {},
   "outputs": [],
   "source": [
    "# Convert michelin_star to dummy\n",
    "dat.michelin_star[dat['michelin_star'] != 0] = 1"
   ]
  },
  {
   "cell_type": "code",
   "execution_count": 6,
   "metadata": {},
   "outputs": [
    {
     "data": {
      "text/plain": [
       "rating            float64\n",
       "review_count        int64\n",
       "price_range       float64\n",
       "region             object\n",
       "michelin_star       int64\n",
       "michelin_guide      int64\n",
       "dtype: object"
      ]
     },
     "execution_count": 6,
     "metadata": {},
     "output_type": "execute_result"
    }
   ],
   "source": [
    "# View the data type of each column\n",
    "dat[['rating', 'review_count', 'price_range', \n",
    "     'region', 'michelin_star', 'michelin_guide']].dtypes"
   ]
  },
  {
   "cell_type": "code",
   "execution_count": 7,
   "metadata": {},
   "outputs": [],
   "source": [
    "dat['price_range'] = dat['price_range'].astype(int)"
   ]
  },
  {
   "cell_type": "code",
   "execution_count": 8,
   "metadata": {},
   "outputs": [
    {
     "data": {
      "text/plain": [
       "rating            0\n",
       "review_count      0\n",
       "price_range       0\n",
       "region            0\n",
       "michelin_star     0\n",
       "michelin_guide    0\n",
       "dtype: int64"
      ]
     },
     "execution_count": 8,
     "metadata": {},
     "output_type": "execute_result"
    }
   ],
   "source": [
    "# Count NaNs in each column\n",
    "dat[['rating', 'review_count', 'price_range', \n",
    "     'region', 'michelin_star', 'michelin_guide']].isna().sum()"
   ]
  },
  {
   "cell_type": "markdown",
   "metadata": {},
   "source": [
    "## Up-sample Minority Class"
   ]
  },
  {
   "cell_type": "code",
   "execution_count": 9,
   "metadata": {
    "scrolled": true
   },
   "outputs": [
    {
     "data": {
      "text/plain": [
       "0    9208\n",
       "1     157\n",
       "Name: michelin_star, dtype: int64"
      ]
     },
     "execution_count": 9,
     "metadata": {},
     "output_type": "execute_result"
    }
   ],
   "source": [
    "# Count of each class\n",
    "dat['michelin_star'].value_counts()"
   ]
  },
  {
   "cell_type": "code",
   "execution_count": 10,
   "metadata": {},
   "outputs": [],
   "source": [
    "from sklearn.utils import resample"
   ]
  },
  {
   "cell_type": "code",
   "execution_count": 11,
   "metadata": {},
   "outputs": [],
   "source": [
    "# Separate majority and minority classes\n",
    "dat_majority = dat[dat.michelin_star==0]\n",
    "dat_minority = dat[dat.michelin_star==1]"
   ]
  },
  {
   "cell_type": "code",
   "execution_count": 12,
   "metadata": {},
   "outputs": [],
   "source": [
    "# Upsample minority class\n",
    "dat_minority_upsampled = resample(dat_minority, \n",
    "                                  replace=True,     # sample with replacement\n",
    "                                  n_samples=9208,   # to match majority class\n",
    "                                  random_state=123) # reproducible results"
   ]
  },
  {
   "cell_type": "code",
   "execution_count": 13,
   "metadata": {},
   "outputs": [],
   "source": [
    "# Combine majority class with upsampled minority class\n",
    "dat_upsampled = pd.concat([dat_majority, dat_minority_upsampled])"
   ]
  },
  {
   "cell_type": "code",
   "execution_count": 14,
   "metadata": {},
   "outputs": [
    {
     "data": {
      "text/plain": [
       "1    9208\n",
       "0    9208\n",
       "Name: michelin_star, dtype: int64"
      ]
     },
     "execution_count": 14,
     "metadata": {},
     "output_type": "execute_result"
    }
   ],
   "source": [
    "# Display new class counts\n",
    "dat_upsampled.michelin_star.value_counts()"
   ]
  },
  {
   "cell_type": "markdown",
   "metadata": {},
   "source": [
    "## Split"
   ]
  },
  {
   "cell_type": "code",
   "execution_count": 15,
   "metadata": {},
   "outputs": [],
   "source": [
    "# Split the data\n",
    "y = dat_upsampled[['michelin_guide']]\n",
    "X = dat_upsampled.drop(columns=['region','michelin_star','michelin_guide'])\n",
    "train_X, test_X, train_y, test_y = train_test_split(X,y,test_size=.25,random_state=123)"
   ]
  },
  {
   "cell_type": "markdown",
   "metadata": {},
   "source": [
    "## Explore Training Set"
   ]
  },
  {
   "cell_type": "code",
   "execution_count": 16,
   "metadata": {
    "scrolled": true
   },
   "outputs": [
    {
     "data": {
      "image/png": "[encoded data removed]",
      "text/plain": [
       "<Figure size 1000x300 with 3 Axes>"
      ]
     },
     "metadata": {},
     "output_type": "display_data"
    },
    {
     "data": {
      "text/plain": [
       "<ggplot: (311093550)>"
      ]
     },
     "execution_count": 16,
     "metadata": {},
     "output_type": "execute_result"
    }
   ],
   "source": [
    "# Plot the continuous variables\n",
    "d = train_X[['rating', 'review_count', 'price_range']].melt()\n",
    "(\n",
    "    ggplot(d,aes(x=\"value\")) +\n",
    "    geom_histogram(bins=25) +\n",
    "    facet_wrap(\"variable\",scales='free') +\n",
    "    theme(figure_size=(10,3),\n",
    "          subplots_adjust={'wspace':0.25,'hspace':0.3})\n",
    ")"
   ]
  },
  {
   "cell_type": "code",
   "execution_count": 17,
   "metadata": {},
   "outputs": [
    {
     "data": {
      "image/png": "[encoded data removed]",
      "text/plain": [
       "<Figure size 1000x300 with 1 Axes>"
      ]
     },
     "metadata": {},
     "output_type": "display_data"
    },
    {
     "data": {
      "text/plain": [
       "<ggplot: (311225354)>"
      ]
     },
     "execution_count": 17,
     "metadata": {},
     "output_type": "execute_result"
    }
   ],
   "source": [
    "# Log transform review_count\n",
    "d = train_X.copy()\n",
    "d['ln_review_count'] =  np.log(d['review_count'] + 1)\n",
    "(\n",
    "    ggplot(d,aes(x=\"ln_review_count\")) +\n",
    "    geom_histogram(bins=25) +\n",
    "    theme(figure_size=(10,3))\n",
    ")"
   ]
  },
  {
   "cell_type": "markdown",
   "metadata": {},
   "source": [
    "## Pre-processing"
   ]
  },
  {
   "cell_type": "code",
   "execution_count": 18,
   "metadata": {},
   "outputs": [],
   "source": [
    "# Log transform review_count\n",
    "dat['review_count'] = np.log(dat['review_count'] + 1)"
   ]
  },
  {
   "cell_type": "code",
   "execution_count": 19,
   "metadata": {},
   "outputs": [
    {
     "data": {
      "text/html": [
       "<div>\n",
       "<style scoped>\n",
       "    .dataframe tbody tr th:only-of-type {\n",
       "        vertical-align: middle;\n",
       "    }\n",
       "\n",
       "    .dataframe tbody tr th {\n",
       "        vertical-align: top;\n",
       "    }\n",
       "\n",
       "    .dataframe thead th {\n",
       "        text-align: right;\n",
       "    }\n",
       "</style>\n",
       "<table border=\"1\" class=\"dataframe\">\n",
       "  <thead>\n",
       "    <tr style=\"text-align: right;\">\n",
       "      <th></th>\n",
       "      <th>category</th>\n",
       "      <th>count</th>\n",
       "    </tr>\n",
       "  </thead>\n",
       "  <tbody>\n",
       "    <tr>\n",
       "      <th>0</th>\n",
       "      <td>Acai Bowls</td>\n",
       "      <td>15</td>\n",
       "    </tr>\n",
       "    <tr>\n",
       "      <th>1</th>\n",
       "      <td>Afghan</td>\n",
       "      <td>9</td>\n",
       "    </tr>\n",
       "    <tr>\n",
       "      <th>2</th>\n",
       "      <td>African</td>\n",
       "      <td>13</td>\n",
       "    </tr>\n",
       "    <tr>\n",
       "      <th>3</th>\n",
       "      <td>American (New)</td>\n",
       "      <td>784</td>\n",
       "    </tr>\n",
       "    <tr>\n",
       "      <th>4</th>\n",
       "      <td>American (Traditional)</td>\n",
       "      <td>524</td>\n",
       "    </tr>\n",
       "    <tr>\n",
       "      <th>...</th>\n",
       "      <td>...</td>\n",
       "      <td>...</td>\n",
       "    </tr>\n",
       "    <tr>\n",
       "      <th>181</th>\n",
       "      <td>Champagne Bars</td>\n",
       "      <td>1</td>\n",
       "    </tr>\n",
       "    <tr>\n",
       "      <th>182</th>\n",
       "      <td>Iberian</td>\n",
       "      <td>1</td>\n",
       "    </tr>\n",
       "    <tr>\n",
       "      <th>183</th>\n",
       "      <td>Piadina</td>\n",
       "      <td>1</td>\n",
       "    </tr>\n",
       "    <tr>\n",
       "      <th>184</th>\n",
       "      <td>Poutineries</td>\n",
       "      <td>1</td>\n",
       "    </tr>\n",
       "    <tr>\n",
       "      <th>185</th>\n",
       "      <td>Shaved Snow</td>\n",
       "      <td>1</td>\n",
       "    </tr>\n",
       "  </tbody>\n",
       "</table>\n",
       "<p>186 rows × 2 columns</p>\n",
       "</div>"
      ],
      "text/plain": [
       "                   category  count\n",
       "0                Acai Bowls     15\n",
       "1                    Afghan      9\n",
       "2                   African     13\n",
       "3            American (New)    784\n",
       "4    American (Traditional)    524\n",
       "..                      ...    ...\n",
       "181          Champagne Bars      1\n",
       "182                 Iberian      1\n",
       "183                 Piadina      1\n",
       "184             Poutineries      1\n",
       "185             Shaved Snow      1\n",
       "\n",
       "[186 rows x 2 columns]"
      ]
     },
     "execution_count": 19,
     "metadata": {},
     "output_type": "execute_result"
    }
   ],
   "source": [
    "# Count of each dummy\n",
    "dummies = dat.columns[6:]\n",
    "dum_count = dat[dummies].sum().reset_index()\n",
    "dum_count.columns = ['category','count']\n",
    "dum_count"
   ]
  },
  {
   "cell_type": "code",
   "execution_count": 20,
   "metadata": {},
   "outputs": [
    {
     "data": {
      "text/plain": [
       "139"
      ]
     },
     "execution_count": 20,
     "metadata": {},
     "output_type": "execute_result"
    }
   ],
   "source": [
    "sum(dum_count['count'] < 100)"
   ]
  },
  {
   "cell_type": "code",
   "execution_count": 21,
   "metadata": {},
   "outputs": [],
   "source": [
    "# Droo unnecessary dummies\n",
    "dum_drop = dum_count.category[dum_count['count'] < 100].to_list()\n",
    "dat = dat.drop(columns=dum_drop)"
   ]
  },
  {
   "cell_type": "markdown",
   "metadata": {},
   "source": [
    "## Modeling Pipeline"
   ]
  },
  {
   "cell_type": "code",
   "execution_count": 22,
   "metadata": {},
   "outputs": [
    {
     "data": {
      "text/plain": [
       "GridSearchCV(cv=KFold(n_splits=5, random_state=202011, shuffle=True),\n",
       "             estimator=Pipeline(steps=[('pre_process', MinMaxScaler()),\n",
       "                                       ('model', None)]),\n",
       "             n_jobs=4,\n",
       "             param_grid=[{'model': [GaussianNB()]},\n",
       "                         {'model': [KNeighborsClassifier(n_neighbors=25)],\n",
       "                          'model__n_neighbors': [5, 10, 25]},\n",
       "                         {'model': [DecisionTreeClassifier()],\n",
       "                          'model__max_depth': [1, 3, 5]},\n",
       "                         {'model': [RandomForestClassifier()],\n",
       "                          'model__max_depth': [3, 5, 7, 9],\n",
       "                          'model__max_features': [3, 5, 7],\n",
       "                          'model__n_estimators': [500, 750, 1000]}],\n",
       "             scoring='roc_auc')"
      ]
     },
     "execution_count": 22,
     "metadata": {},
     "output_type": "execute_result"
    }
   ],
   "source": [
    "# (0) Split the data\n",
    "y = dat_upsampled[['michelin_guide']]\n",
    "X = dat_upsampled.drop(columns=['region','michelin_star','michelin_guide'])\n",
    "train_X, test_X, train_y, test_y = train_test_split(X,y,test_size=.25,random_state=123)\n",
    "\n",
    "# (1) Set the folds index to ensure comparable samples\n",
    "fold_generator = KFold(n_splits=5, shuffle=True, random_state=202011)\n",
    "\n",
    "# (2) Next Let's create our model pipe (note for the model we leave none as a placeholder)\n",
    "pipe = Pipeline(steps=[('pre_process', pp.MinMaxScaler()),\n",
    "                       ('model',None)])\n",
    "\n",
    "# (3) Specify the models and their repsective tuning parameters. \n",
    "# Note the naming convention here to reference the model key\n",
    "search_space = [\n",
    "    # NaiveBayes\n",
    "    {'model':[NB()]},\n",
    "    \n",
    "    # KNN with K tuning param\n",
    "    {'model':[KNN()],\n",
    "     'model__n_neighbors':[5,10,25]},\n",
    "    \n",
    "    # Decision Tree with the Max Depth Param\n",
    "    {'model':[DT()],\n",
    "     'model__max_depth':[1,3,5]},\n",
    "    \n",
    "    # Random forest with the N Estimators tuning param\n",
    "    {'model':[RF()],\n",
    "     'model__max_depth':[3,5,7,9],\n",
    "     'model__n_estimators':[500,750,1000],\n",
    "     'model__max_features':[3,5,7]}\n",
    "]\n",
    "\n",
    "\n",
    "# (4) Put it all together in the grid search\n",
    "search = GridSearchCV(pipe, search_space, \n",
    "                      cv = fold_generator,\n",
    "                      scoring='roc_auc',\n",
    "                      n_jobs=4)\n",
    "\n",
    "# (5) Fit the model to the training data\n",
    "search.fit(train_X,train_y)"
   ]
  },
  {
   "cell_type": "code",
   "execution_count": 23,
   "metadata": {},
   "outputs": [
    {
     "data": {
      "text/plain": [
       "0.9833387432163505"
      ]
     },
     "execution_count": 23,
     "metadata": {},
     "output_type": "execute_result"
    }
   ],
   "source": [
    "search.best_score_"
   ]
  },
  {
   "cell_type": "code",
   "execution_count": 24,
   "metadata": {},
   "outputs": [
    {
     "data": {
      "text/plain": [
       "{'model': KNeighborsClassifier(n_neighbors=25), 'model__n_neighbors': 25}"
      ]
     },
     "execution_count": 24,
     "metadata": {},
     "output_type": "execute_result"
    }
   ],
   "source": [
    "search.best_params_"
   ]
  },
  {
   "cell_type": "code",
   "execution_count": 25,
   "metadata": {},
   "outputs": [],
   "source": [
    "# Save the best model\n",
    "knn_mod = search.best_estimator_"
   ]
  },
  {
   "cell_type": "code",
   "execution_count": 26,
   "metadata": {},
   "outputs": [
    {
     "data": {
      "text/plain": [
       "0.9946459923895046"
      ]
     },
     "execution_count": 26,
     "metadata": {},
     "output_type": "execute_result"
    }
   ],
   "source": [
    "# AUC for the training data w/ predict_proba()\n",
    "m.roc_auc_score(train_y,knn_mod.predict_proba(train_X)[:,1])"
   ]
  },
  {
   "cell_type": "code",
   "execution_count": 27,
   "metadata": {},
   "outputs": [
    {
     "data": {
      "text/plain": [
       "0.9860728599516031"
      ]
     },
     "execution_count": 27,
     "metadata": {},
     "output_type": "execute_result"
    }
   ],
   "source": [
    "# AUC for the test data w/ predict_proba()\n",
    "m.roc_auc_score(test_y,knn_mod.predict_proba(test_X)[:,1])"
   ]
  },
  {
   "cell_type": "code",
   "execution_count": 28,
   "metadata": {},
   "outputs": [
    {
     "data": {
      "image/png": "[encoded data removed]",
      "text/plain": [
       "<Figure size 700x500 with 1 Axes>"
      ]
     },
     "metadata": {
      "needs_background": "light"
     },
     "output_type": "display_data"
    },
    {
     "data": {
      "text/plain": [
       "<ggplot: (311247237)>"
      ]
     },
     "execution_count": 28,
     "metadata": {},
     "output_type": "execute_result"
    }
   ],
   "source": [
    "# Save the predicted probabilities\n",
    "probs = knn_mod.predict_proba(test_X)\n",
    "probs = pd.DataFrame(probs,columns=knn_mod.classes_)\n",
    "\n",
    "# Generate fpr and tpr for different thresholds\n",
    "fpr, tpr, thresholds = m.roc_curve(test_y, probs[1])\n",
    "\n",
    "# Plot the ROC curve\n",
    "( \n",
    "    ggplot(pd.DataFrame(dict(fpr=fpr,tpr=tpr)),\n",
    "           aes(x=\"fpr\",y=\"tpr\")) +\n",
    "    geom_path(color=\"steelblue\",size=1) +\n",
    "    geom_abline(intercept=0,slope=1,linetype=\"dashed\") +\n",
    "    theme_minimal() +\n",
    "    labs(title=\"ROC Curve\") +\n",
    "    theme(figure_size=(7,5))\n",
    ")"
   ]
  },
  {
   "cell_type": "markdown",
   "metadata": {},
   "source": [
    "## Variable Importance"
   ]
  },
  {
   "cell_type": "code",
   "execution_count": 29,
   "metadata": {},
   "outputs": [],
   "source": [
    "from sklearn.inspection import partial_dependence\n",
    "from sklearn.inspection import plot_partial_dependence\n",
    "from sklearn.inspection import permutation_importance\n",
    "from pdpbox import pdp"
   ]
  },
  {
   "cell_type": "code",
   "execution_count": null,
   "metadata": {},
   "outputs": [],
   "source": [
    "# Permute the features to determine importance\n",
    "vi = permutation_importance(knn_mod,train_X,train_y,n_repeats=5)"
   ]
  },
  {
   "cell_type": "code",
   "execution_count": null,
   "metadata": {},
   "outputs": [],
   "source": [
    "# Organize as a data frame \n",
    "vi_dat = pd.DataFrame(dict(variable=train_X.columns,\n",
    "                           vi = vi['importances_mean'],\n",
    "                           std = vi['importances_std']))\n",
    "\n",
    "# Generate intervals\n",
    "vi_dat['low'] = vi_dat['vi'] - 2*vi_dat['std']\n",
    "vi_dat['high'] = vi_dat['vi'] + 2*vi_dat['std']\n",
    "\n",
    "# But in order from most to least important\n",
    "vi_dat = vi_dat.sort_values(by=\"vi\",ascending=False).reset_index(drop=True)\n",
    "\n",
    "\n",
    "vi_dat"
   ]
  },
  {
   "cell_type": "code",
   "execution_count": null,
   "metadata": {},
   "outputs": [],
   "source": [
    "# Plot\n",
    "(\n",
    "    ggplot(vi_dat,\n",
    "          aes(x=\"variable\",y=\"vi\")) +\n",
    "    geom_col(alpha=.5) +\n",
    "    geom_point() +\n",
    "    geom_errorbar(aes(ymin=\"low\",ymax=\"high\"),width=.2) +\n",
    "    theme_bw() +\n",
    "    scale_x_discrete(limits=vi_dat.variable.tolist()) +\n",
    "    coord_flip() +\n",
    "    labs(y=\"Reduction in AUC ROC\",x=\"\")\n",
    ")"
   ]
  }
 ],
 "metadata": {
  "kernelspec": {
   "display_name": "Python 3",
   "language": "python",
   "name": "python3"
  },
  "language_info": {
   "codemirror_mode": {
    "name": "ipython",
    "version": 3
   },
   "file_extension": ".py",
   "mimetype": "text/x-python",
   "name": "python",
   "nbconvert_exporter": "python",
   "pygments_lexer": "ipython3",
   "version": "3.8.5"
  }
 },
 "nbformat": 4,
 "nbformat_minor": 4
}
